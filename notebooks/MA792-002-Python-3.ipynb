{
 "cells": [
  {
   "cell_type": "markdown",
   "metadata": {
    "slideshow": {
     "slide_type": "slide"
    }
   },
   "source": [
    "# Object Oriented Python\n",
    "\n",
    "Or a class about classes!"
   ]
  },
  {
   "cell_type": "markdown",
   "metadata": {
    "slideshow": {
     "slide_type": "slide"
    }
   },
   "source": [
    "# Object Oriented Programming\n",
    "\n",
    "Object-oriented programming is about using classes to define data abstraction.\n",
    "\n",
    "A strong abstraction should make use of encapsulation, modularity, and inheritance."
   ]
  },
  {
   "cell_type": "markdown",
   "metadata": {
    "slideshow": {
     "slide_type": "slide"
    }
   },
   "source": [
    "# The Simplest Class"
   ]
  },
  {
   "cell_type": "code",
   "execution_count": 23,
   "metadata": {},
   "outputs": [],
   "source": [
    "class Simple(object):\n",
    "    pass"
   ]
  },
  {
   "cell_type": "markdown",
   "metadata": {
    "slideshow": {
     "slide_type": "slide"
    }
   },
   "source": [
    "# I Lied\n",
    "Actually it can be simpler"
   ]
  },
  {
   "cell_type": "code",
   "execution_count": 24,
   "metadata": {},
   "outputs": [],
   "source": [
    "class Simple:\n",
    "    pass"
   ]
  },
  {
   "cell_type": "markdown",
   "metadata": {
    "slideshow": {
     "slide_type": "slide"
    }
   },
   "source": [
    "# A Slightly More Complex Example"
   ]
  },
  {
   "cell_type": "code",
   "execution_count": 25,
   "metadata": {},
   "outputs": [],
   "source": [
    "# %load ../code/image.py\n",
    "class Image(object):\n",
    "    \"\"\"Base class for images.\"\"\"\n",
    "\n",
    "    def __init__(self, height, width):\n",
    "        self.height, self.width = height, width\n",
    "\n",
    "    def dimensions(self):\n",
    "        return (self.height, self.width)\n"
   ]
  },
  {
   "cell_type": "markdown",
   "metadata": {
    "slideshow": {
     "slide_type": "slide"
    }
   },
   "source": [
    "# Class Initialization\n",
    "\n",
    "When a new instance of a class is created, the `__init__` method is called."
   ]
  },
  {
   "cell_type": "code",
   "execution_count": 26,
   "metadata": {},
   "outputs": [
    {
     "data": {
      "text/plain": [
       "(100, 100)"
      ]
     },
     "execution_count": 26,
     "metadata": {},
     "output_type": "execute_result"
    }
   ],
   "source": [
    "image = Image(100, 100)\n",
    "image.dimensions()"
   ]
  },
  {
   "cell_type": "markdown",
   "metadata": {
    "slideshow": {
     "slide_type": "slide"
    }
   },
   "source": [
    "# Know Yourself\n",
    "\n",
    "The `self` is the first argument to all class methods. `self` is similar to `this` in C++ or Java. Unlike `this` in C++ or Java, `self` is not a keyword only a strong convention. It represents the current class instance. It is automatically passed when the object calls the method."
   ]
  },
  {
   "cell_type": "markdown",
   "metadata": {
    "slideshow": {
     "slide_type": "slide"
    }
   },
   "source": [
    "# Class Attributes\n",
    "\n",
    "While can `self` be used to store information about the current instance, you can also use class level attributes to maintain information about all class instances. To do this we can use the `__class__` attribute which is an attribute on all class instances."
   ]
  },
  {
   "cell_type": "code",
   "execution_count": 27,
   "metadata": {
    "slideshow": {
     "slide_type": "slide"
    }
   },
   "outputs": [],
   "source": [
    "# %load ../code/counter.py\n",
    "class Counter(object):\n",
    "\n",
    "    count = 0\n",
    "\n",
    "    def __init__(self):\n",
    "        self.__class__.count += 1\n"
   ]
  },
  {
   "cell_type": "code",
   "execution_count": 28,
   "metadata": {
    "slideshow": {
     "slide_type": "fragment"
    }
   },
   "outputs": [
    {
     "data": {
      "text/plain": [
       "1"
      ]
     },
     "execution_count": 28,
     "metadata": {},
     "output_type": "execute_result"
    }
   ],
   "source": [
    "first = Counter()\n",
    "first.count"
   ]
  },
  {
   "cell_type": "code",
   "execution_count": 29,
   "metadata": {
    "slideshow": {
     "slide_type": "fragment"
    }
   },
   "outputs": [
    {
     "data": {
      "text/plain": [
       "2"
      ]
     },
     "execution_count": 29,
     "metadata": {},
     "output_type": "execute_result"
    }
   ],
   "source": [
    "second = Counter()\n",
    "second.count"
   ]
  },
  {
   "cell_type": "markdown",
   "metadata": {
    "slideshow": {
     "slide_type": "slide"
    }
   },
   "source": [
    "# Private Methods\n",
    "\n",
    "Part of encapsulation is being able to keep information hidden. To mark a method as private you prefix the name with a double underscore. When this is done you can only call the method from inside the class."
   ]
  },
  {
   "cell_type": "code",
   "execution_count": 30,
   "metadata": {
    "slideshow": {
     "slide_type": "-"
    }
   },
   "outputs": [],
   "source": [
    "# %load ../code/private.py\n",
    "class Hidden(object):\n",
    "\n",
    "    def __init__(self, data):\n",
    "        self.data = data\n",
    "        self.__print_data()\n",
    "\n",
    "    def __print_data(self):\n",
    "        print(self.data)\n"
   ]
  },
  {
   "cell_type": "code",
   "execution_count": 31,
   "metadata": {
    "slideshow": {
     "slide_type": "slide"
    }
   },
   "outputs": [
    {
     "name": "stdout",
     "output_type": "stream",
     "text": [
      "4\n"
     ]
    }
   ],
   "source": [
    "example = Hidden(4)"
   ]
  },
  {
   "cell_type": "code",
   "execution_count": 32,
   "metadata": {
    "slideshow": {
     "slide_type": "fragment"
    }
   },
   "outputs": [
    {
     "ename": "AttributeError",
     "evalue": "'Hidden' object has no attribute '__print_data'",
     "output_type": "error",
     "traceback": [
      "\u001b[0;31m---------------------------------------------------------------------------\u001b[0m",
      "\u001b[0;31mAttributeError\u001b[0m                            Traceback (most recent call last)",
      "\u001b[0;32m<ipython-input-32-3c699316bc1e>\u001b[0m in \u001b[0;36m<module>\u001b[0;34m()\u001b[0m\n\u001b[1;32m      1\u001b[0m \u001b[0;31m# Will raise an error\u001b[0m\u001b[0;34m\u001b[0m\u001b[0;34m\u001b[0m\u001b[0m\n\u001b[0;32m----> 2\u001b[0;31m \u001b[0mexample\u001b[0m\u001b[0;34m.\u001b[0m\u001b[0m__print_data\u001b[0m\u001b[0;34m(\u001b[0m\u001b[0;34m)\u001b[0m\u001b[0;34m\u001b[0m\u001b[0m\n\u001b[0m",
      "\u001b[0;31mAttributeError\u001b[0m: 'Hidden' object has no attribute '__print_data'"
     ]
    }
   ],
   "source": [
    "# Will raise an error\n",
    "example.__print_data()"
   ]
  },
  {
   "cell_type": "markdown",
   "metadata": {
    "slideshow": {
     "slide_type": "slide"
    }
   },
   "source": [
    "# Inheritance is Super\n",
    "\n",
    "Classes do not always have to extend from `object`. They can extend from one or more base classes. Doing this we can extend the functionality provided by the base class.\n",
    "\n",
    "The `super `function delegates method calls to a parent or sibling class of type. This is useful for accessing inherited methods that have been overridden in a class."
   ]
  },
  {
   "cell_type": "code",
   "execution_count": 33,
   "metadata": {
    "slideshow": {
     "slide_type": "slide"
    }
   },
   "outputs": [],
   "source": [
    "class SquareImage(Image):\n",
    "    \n",
    "    def __init__(self, side):\n",
    "        super().__init__(side, side)"
   ]
  },
  {
   "cell_type": "code",
   "execution_count": 34,
   "metadata": {
    "slideshow": {
     "slide_type": "fragment"
    }
   },
   "outputs": [
    {
     "data": {
      "text/plain": [
       "(20, 20)"
      ]
     },
     "execution_count": 34,
     "metadata": {},
     "output_type": "execute_result"
    }
   ],
   "source": [
    "square = SquareImage(20)\n",
    "square.dimensions()"
   ]
  },
  {
   "cell_type": "markdown",
   "metadata": {
    "slideshow": {
     "slide_type": "slide"
    }
   },
   "source": [
    "# Extending Built-In Types\n",
    "\n",
    "You can also extend built in Python types such as `int`, `float`, `dict`, `list`.\n",
    "\n",
    "Possible extensions:\n",
    "\n",
    "- Ordered dictionary (preserves key insersion order)\n",
    "- Multi-valued dictionary (allows keys to hold multiple values)\n",
    "- Queue (first in, first out)"
   ]
  },
  {
   "cell_type": "markdown",
   "metadata": {
    "slideshow": {
     "slide_type": "notes"
    }
   },
   "source": [
    "The standard dict as of Python 3.6 preserves insertion order"
   ]
  },
  {
   "cell_type": "markdown",
   "metadata": {
    "slideshow": {
     "slide_type": "slide"
    }
   },
   "source": [
    "# Note on Extending Immutable Types\n",
    "\n",
    "`__init__` is called after the object is constructed. For immutable types (`int`, `string`, `tuple`) it is too late to modify the value. If you want to change how they are created you need to override the class constructor `__new__`."
   ]
  },
  {
   "cell_type": "code",
   "execution_count": 35,
   "metadata": {
    "slideshow": {
     "slide_type": "slide"
    }
   },
   "outputs": [],
   "source": [
    "# %load ../code/newstring.py\n",
    "class LanguageString(str):\n",
    "\n",
    "    def __new__(cls, value, lang='en'):\n",
    "        obj = str.__new__(cls, value)\n",
    "        obj.lang = lang\n",
    "        return obj\n"
   ]
  },
  {
   "cell_type": "code",
   "execution_count": 36,
   "metadata": {
    "slideshow": {
     "slide_type": "fragment"
    }
   },
   "outputs": [],
   "source": [
    "english_string = LanguageString('Hello')\n",
    "spanish_string = LanguageString('Hola', lang='sp')"
   ]
  },
  {
   "cell_type": "markdown",
   "metadata": {
    "slideshow": {
     "slide_type": "slide"
    }
   },
   "source": [
    "# `__new__` vs `__init__`\n",
    "\n",
    "`__new__` takes the class (`cls`) as its first argument. If it returns a new instance of the class then `__init__` is called passing the new instance and the rest of the arguments. If `__new__` doesn't return a new instance then `__init__` will not be called.\n",
    "\n",
    "If you are extending object or a subclass of object will typically not need to change this method."
   ]
  },
  {
   "cell_type": "markdown",
   "metadata": {
    "slideshow": {
     "slide_type": "slide"
    }
   },
   "source": [
    "# Singleton\n",
    "\n",
    "One use of overriding `__new__` for a mutable type is the Singleton pattern.\n",
    "\n",
    "The Singleton pattern is a common programming pattern for having a class which only allows for a single instance."
   ]
  },
  {
   "cell_type": "code",
   "execution_count": 37,
   "metadata": {
    "slideshow": {
     "slide_type": "slide"
    }
   },
   "outputs": [],
   "source": [
    "# %load ../code/singleton.py\n",
    "class Singleton(object):\n",
    "    __instance = None\n",
    "\n",
    "    def __new__(cls, *args, **kwargs):\n",
    "        if cls.__instance is None:\n",
    "            cls.__instance = object.__new__(cls, *args, **kwargs)\n",
    "        return cls.__instance\n"
   ]
  },
  {
   "cell_type": "code",
   "execution_count": 38,
   "metadata": {},
   "outputs": [],
   "source": [
    "class ExampleSingleton(Singleton):\n",
    "    pass"
   ]
  },
  {
   "cell_type": "code",
   "execution_count": 39,
   "metadata": {
    "slideshow": {
     "slide_type": "fragment"
    }
   },
   "outputs": [
    {
     "data": {
      "text/plain": [
       "True"
      ]
     },
     "execution_count": 39,
     "metadata": {},
     "output_type": "execute_result"
    }
   ],
   "source": [
    "x = ExampleSingleton()\n",
    "y = ExampleSingleton()\n",
    "x is y"
   ]
  },
  {
   "cell_type": "markdown",
   "metadata": {
    "slideshow": {
     "slide_type": "slide"
    }
   },
   "source": [
    "# The Borg Pattern\n",
    "\n",
    "Some critics of the Singleton pattern have noted that it is often used in cases where you don't really care about object identity but really all you care about is shared state (such as global configuration)."
   ]
  },
  {
   "cell_type": "code",
   "execution_count": 40,
   "metadata": {
    "slideshow": {
     "slide_type": "slide"
    }
   },
   "outputs": [],
   "source": [
    "# %load ../code/borg.py\n",
    "class Borg(object):\n",
    "\n",
    "    _state = {}\n",
    "\n",
    "    def __new__(cls, *args, **kwargs):\n",
    "        self = object.__new__(cls, *args, **kwargs)\n",
    "        # override instance namespace with shared state\n",
    "        self.__dict__ = cls._state\n",
    "        return self\n"
   ]
  },
  {
   "cell_type": "code",
   "execution_count": 41,
   "metadata": {
    "slideshow": {
     "slide_type": "fragment"
    }
   },
   "outputs": [],
   "source": [
    "config1 = Borg()\n",
    "config1.debug = True"
   ]
  },
  {
   "cell_type": "code",
   "execution_count": 42,
   "metadata": {
    "slideshow": {
     "slide_type": "fragment"
    }
   },
   "outputs": [
    {
     "data": {
      "text/plain": [
       "True"
      ]
     },
     "execution_count": 42,
     "metadata": {},
     "output_type": "execute_result"
    }
   ],
   "source": [
    "config2 = Borg()\n",
    "config2.debug"
   ]
  },
  {
   "cell_type": "code",
   "execution_count": 43,
   "metadata": {
    "slideshow": {
     "slide_type": "fragment"
    }
   },
   "outputs": [
    {
     "data": {
      "text/plain": [
       "False"
      ]
     },
     "execution_count": 43,
     "metadata": {},
     "output_type": "execute_result"
    }
   ],
   "source": [
    "config1 is config2"
   ]
  },
  {
   "cell_type": "markdown",
   "metadata": {
    "slideshow": {
     "slide_type": "slide"
    }
   },
   "source": [
    "# Multiple Inheritance\n",
    "\n",
    "Python supports multiple inheritance.\n",
    "\n",
    "Multiple inheritance can cause some ambiguity in what version of the method will be called. In Python methods are resolved depth-first from left to right in the defined parent classes. This means the order of base classes matter in the class definition."
   ]
  },
  {
   "cell_type": "code",
   "execution_count": 44,
   "metadata": {
    "slideshow": {
     "slide_type": "subslide"
    }
   },
   "outputs": [],
   "source": [
    "class TypeA(object):\n",
    "\n",
    "    def name(self):\n",
    "        print('Type A')\n",
    "\n",
    "\n",
    "class TypeB(object):\n",
    "\n",
    "    def name(self):\n",
    "        print('Type B')"
   ]
  },
  {
   "cell_type": "code",
   "execution_count": 45,
   "metadata": {},
   "outputs": [],
   "source": [
    "class TypeC(TypeA, TypeB):\n",
    "    pass\n",
    "\n",
    "\n",
    "class TypeD(TypeB, TypeA):\n",
    "    pass"
   ]
  },
  {
   "cell_type": "code",
   "execution_count": 46,
   "metadata": {
    "slideshow": {
     "slide_type": "fragment"
    }
   },
   "outputs": [
    {
     "name": "stdout",
     "output_type": "stream",
     "text": [
      "Type A\n"
     ]
    },
    {
     "data": {
      "text/plain": [
       "(__main__.TypeC, __main__.TypeA, __main__.TypeB, object)"
      ]
     },
     "execution_count": 46,
     "metadata": {},
     "output_type": "execute_result"
    }
   ],
   "source": [
    "c = TypeC()\n",
    "c.name()\n",
    "c.__class__.__mro__"
   ]
  },
  {
   "cell_type": "code",
   "execution_count": 47,
   "metadata": {
    "slideshow": {
     "slide_type": "fragment"
    }
   },
   "outputs": [
    {
     "name": "stdout",
     "output_type": "stream",
     "text": [
      "Type B\n"
     ]
    },
    {
     "data": {
      "text/plain": [
       "(__main__.TypeD, __main__.TypeB, __main__.TypeA, object)"
      ]
     },
     "execution_count": 47,
     "metadata": {},
     "output_type": "execute_result"
    }
   ],
   "source": [
    "d = TypeD()\n",
    "d.name()\n",
    "d.__class__.__mro__"
   ]
  },
  {
   "cell_type": "markdown",
   "metadata": {
    "slideshow": {
     "slide_type": "slide"
    }
   },
   "source": [
    "# Mixins\n",
    "\n",
    "Mixins are a sytle of using multiple inheritance. Each mixin class adds a small and specific piece of functionality.\n",
    "\n",
    "This would be similar to interfaces in Java or C#."
   ]
  },
  {
   "cell_type": "markdown",
   "metadata": {
    "slideshow": {
     "slide_type": "slide"
    }
   },
   "source": [
    "# Mixins Example\n",
    "\n",
    "A great example comes right from the Python standard library: SocketServer.py\n",
    "\n",
    "```python\n",
    "class ForkingUDPServer(ForkingMixIn, UDPServer): pass\n",
    "class ForkingTCPServer(ForkingMixIn, TCPServer): pass\n",
    "\n",
    "class ThreadingUDPServer(ThreadingMixIn, UDPServer): pass\n",
    "class ThreadingTCPServer(ThreadingMixIn, TCPServer): pass\n",
    "```"
   ]
  },
  {
   "cell_type": "markdown",
   "metadata": {
    "slideshow": {
     "slide_type": "slide"
    }
   },
   "source": [
    "# Defining Comparisons\n",
    "\n",
    "Comparison methods `__lt__`, `__le__`, `__eq__`, `__ne__`, `__gt__`, and `__ge__` can be used to define object comparisons. They should return either `True` or `False` but can return any value which will be converted to a bool."
   ]
  },
  {
   "cell_type": "code",
   "execution_count": 48,
   "metadata": {
    "slideshow": {
     "slide_type": "slide"
    }
   },
   "outputs": [],
   "source": [
    "class Student(object):\n",
    "\n",
    "    def __init__(self, name, grade):\n",
    "        self.name, self.grade = name, grade\n",
    "\n",
    "    def __lt__(self, other):\n",
    "        return self.name < other.name\n",
    "\n",
    "    def __gt__(self, other):\n",
    "        return self.grade > other.grade"
   ]
  },
  {
   "cell_type": "code",
   "execution_count": 49,
   "metadata": {
    "slideshow": {
     "slide_type": "slide"
    }
   },
   "outputs": [],
   "source": [
    "sally = Student('Sally', 90)\n",
    "susan = Student('Susan', 90)"
   ]
  },
  {
   "cell_type": "code",
   "execution_count": 50,
   "metadata": {
    "slideshow": {
     "slide_type": "fragment"
    }
   },
   "outputs": [
    {
     "data": {
      "text/plain": [
       "True"
      ]
     },
     "execution_count": 50,
     "metadata": {},
     "output_type": "execute_result"
    }
   ],
   "source": [
    "sally < susan"
   ]
  },
  {
   "cell_type": "code",
   "execution_count": 51,
   "metadata": {
    "slideshow": {
     "slide_type": "fragment"
    }
   },
   "outputs": [
    {
     "data": {
      "text/plain": [
       "False"
      ]
     },
     "execution_count": 51,
     "metadata": {},
     "output_type": "execute_result"
    }
   ],
   "source": [
    "sally > susan"
   ]
  },
  {
   "cell_type": "code",
   "execution_count": 52,
   "metadata": {
    "slideshow": {
     "slide_type": "fragment"
    }
   },
   "outputs": [
    {
     "ename": "TypeError",
     "evalue": "'>=' not supported between instances of 'Student' and 'Student'",
     "output_type": "error",
     "traceback": [
      "\u001b[0;31m---------------------------------------------------------------------------\u001b[0m",
      "\u001b[0;31mTypeError\u001b[0m                                 Traceback (most recent call last)",
      "\u001b[0;32m<ipython-input-52-ada2b62cc324>\u001b[0m in \u001b[0;36m<module>\u001b[0;34m()\u001b[0m\n\u001b[0;32m----> 1\u001b[0;31m \u001b[0msally\u001b[0m \u001b[0;34m>=\u001b[0m \u001b[0msusan\u001b[0m\u001b[0;34m\u001b[0m\u001b[0m\n\u001b[0m",
      "\u001b[0;31mTypeError\u001b[0m: '>=' not supported between instances of 'Student' and 'Student'"
     ]
    }
   ],
   "source": [
    "sally >= susan"
   ]
  },
  {
   "cell_type": "markdown",
   "metadata": {
    "slideshow": {
     "slide_type": "slide"
    }
   },
   "source": [
    "# Total Ordering\n",
    "\n",
    "If you define all of these comparisons then you can potentially create a non-well defined set of ordering. To simplify the creation a well ordered type you can use `functools.total_ordering`. In that case you only need to define one of `__lt__()`, `__le__()`, `__gt__()`, or `__ge__()` along with `__eq__`. The rest of the comparisons will be derived from those."
   ]
  },
  {
   "cell_type": "code",
   "execution_count": 53,
   "metadata": {},
   "outputs": [],
   "source": [
    "from functools import total_ordering\n",
    "\n",
    "\n",
    "@total_ordering\n",
    "class Student(object):\n",
    "\n",
    "    def __init__(self, name, grade):\n",
    "        self.name, self.grade = name, grade\n",
    "\n",
    "    def __lt__(self, other):\n",
    "        return self.grade < other.grade\n",
    "    \n",
    "    def __eq__(self, other):\n",
    "        return self.grade == other.grade"
   ]
  },
  {
   "cell_type": "code",
   "execution_count": 54,
   "metadata": {
    "slideshow": {
     "slide_type": "subslide"
    }
   },
   "outputs": [
    {
     "data": {
      "text/plain": [
       "True"
      ]
     },
     "execution_count": 54,
     "metadata": {},
     "output_type": "execute_result"
    }
   ],
   "source": [
    "sally = Student('Sally', 90)\n",
    "susan = Student('Susan', 80)\n",
    "sally >= susan"
   ]
  },
  {
   "cell_type": "code",
   "execution_count": 55,
   "metadata": {
    "slideshow": {
     "slide_type": "fragment"
    }
   },
   "outputs": [
    {
     "data": {
      "text/plain": [
       "['Susan', 'Sally']"
      ]
     },
     "execution_count": 55,
     "metadata": {},
     "output_type": "execute_result"
    }
   ],
   "source": [
    "students = [sally, susan]\n",
    "students.sort()  # Ascending sort is the default\n",
    "[s.name for s in students]"
   ]
  },
  {
   "cell_type": "code",
   "execution_count": 56,
   "metadata": {
    "slideshow": {
     "slide_type": "fragment"
    }
   },
   "outputs": [
    {
     "data": {
      "text/plain": [
       "['Sally', 'Susan']"
      ]
     },
     "execution_count": 56,
     "metadata": {},
     "output_type": "execute_result"
    }
   ],
   "source": [
    "students.sort(reverse=True)  # Now desending sort\n",
    "[s.name for s in students]"
   ]
  },
  {
   "cell_type": "markdown",
   "metadata": {
    "slideshow": {
     "slide_type": "slide"
    }
   },
   "source": [
    "# Defining Operators\n",
    "\n",
    "You can define common operators by defining `__add__`, `__sub__`, `__mul__`, `__floordiv__`, `__mod__`, `__pow__`, `__lshift__`, `__rshift__`, `__and__`, `__or__`, and `__xor__`."
   ]
  },
  {
   "cell_type": "code",
   "execution_count": 57,
   "metadata": {
    "slideshow": {
     "slide_type": "slide"
    }
   },
   "outputs": [],
   "source": [
    "class Media(object):\n",
    "    \n",
    "    def __init__(self, css=None, js=None):\n",
    "        self.css = set(css or [])\n",
    "        self.js = set(js or [])\n",
    "\n",
    "    def __add__(self, other):\n",
    "        css = self.css | other.css\n",
    "        js = self.js | other.js\n",
    "        return Media(css=css, js=js)"
   ]
  },
  {
   "cell_type": "code",
   "execution_count": 58,
   "metadata": {
    "slideshow": {
     "slide_type": "slide"
    }
   },
   "outputs": [],
   "source": [
    "base = Media(css=['base.css'])\n",
    "forms = Media(css=['base.css', 'forms.css'], js=['forms.js'])"
   ]
  },
  {
   "cell_type": "code",
   "execution_count": 59,
   "metadata": {
    "slideshow": {
     "slide_type": "fragment"
    }
   },
   "outputs": [],
   "source": [
    "new = base + forms"
   ]
  },
  {
   "cell_type": "code",
   "execution_count": 60,
   "metadata": {
    "slideshow": {
     "slide_type": "fragment"
    }
   },
   "outputs": [
    {
     "data": {
      "text/plain": [
       "{'forms.js'}"
      ]
     },
     "execution_count": 60,
     "metadata": {},
     "output_type": "execute_result"
    }
   ],
   "source": [
    "new.js"
   ]
  },
  {
   "cell_type": "code",
   "execution_count": 61,
   "metadata": {
    "slideshow": {
     "slide_type": "fragment"
    }
   },
   "outputs": [
    {
     "data": {
      "text/plain": [
       "{'base.css', 'forms.css'}"
      ]
     },
     "execution_count": 61,
     "metadata": {},
     "output_type": "execute_result"
    }
   ],
   "source": [
    "new.css"
   ]
  },
  {
   "cell_type": "markdown",
   "metadata": {
    "slideshow": {
     "slide_type": "slide"
    }
   },
   "source": [
    "# Up Next\n",
    "\n",
    "Using the file system and handling problems."
   ]
  }
 ],
 "metadata": {
  "celltoolbar": "Slideshow",
  "kernelspec": {
   "display_name": "Python 3",
   "language": "python",
   "name": "python3"
  },
  "language_info": {
   "codemirror_mode": {
    "name": "ipython",
    "version": 3
   },
   "file_extension": ".py",
   "mimetype": "text/x-python",
   "name": "python",
   "nbconvert_exporter": "python",
   "pygments_lexer": "ipython3",
   "version": "3.6.4"
  }
 },
 "nbformat": 4,
 "nbformat_minor": 2
}
