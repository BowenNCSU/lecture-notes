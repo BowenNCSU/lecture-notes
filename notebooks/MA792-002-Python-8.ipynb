{
 "cells": [
  {
   "cell_type": "markdown",
   "metadata": {
    "slideshow": {
     "slide_type": "slide"
    }
   },
   "source": [
    "# Tools to Write Better Python\n",
    "\n",
    "- `flake8`\n",
    "- `pdb`/`ipdb`\n",
    "- `IPython`"
   ]
  },
  {
   "cell_type": "markdown",
   "metadata": {
    "slideshow": {
     "slide_type": "slide"
    }
   },
   "source": [
    "# `flake8`\n",
    "\n",
    "The package `flake8` is a suite of packages for code linting/static analysis of Python projects. It's easy to configure and use. There are plugins which can be added for more checks.\n",
    "\n",
    "`flake8` is composed of\n",
    "\n",
    "- `pycodestyle` for checking PEP8 style consistency\n",
    "- `pyflakes` for static analysis\n",
    "- `mccabe` for checking McCabe complexity\n"
   ]
  },
  {
   "cell_type": "markdown",
   "metadata": {
    "slideshow": {
     "slide_type": "slide"
    }
   },
   "source": [
    "# What is Linting\n",
    "\n",
    "The term linting comes from the `lint` program for checking C source code for suspicious and non-portable constructs. In Python this can be shadowing a built-in name, using the `*` import, or having a bare exception handler."
   ]
  },
  {
   "cell_type": "markdown",
   "metadata": {
    "slideshow": {
     "slide_type": "slide"
    }
   },
   "source": [
    "# Static Analysis\n",
    "\n",
    "Static analysis refers to checking the program source without importing or running it. Because Python code can potentially have side effect when it's imported, using static analysis is generally preferred."
   ]
  },
  {
   "cell_type": "markdown",
   "metadata": {
    "slideshow": {
     "slide_type": "slide"
    }
   },
   "source": [
    "# Example Violations"
   ]
  },
  {
   "cell_type": "code",
   "execution_count": null,
   "metadata": {},
   "outputs": [],
   "source": [
    "# %load ../code/ugly.py\n",
    "import os\n",
    "\n",
    "start =  1\n",
    "end = 10\n",
    "\n",
    "for i in range(start, end):\n",
    "    print(i)\n"
   ]
  },
  {
   "cell_type": "code",
   "execution_count": 2,
   "metadata": {
    "slideshow": {
     "slide_type": "-"
    }
   },
   "outputs": [
    {
     "name": "stdout",
     "output_type": "stream",
     "text": [
      "../code/ugly.py:1:1: F401 'os' imported but unused\r\n",
      "../code/ugly.py:3:8: E222 multiple spaces after operator\r\n"
     ]
    }
   ],
   "source": [
    "!flake8 ../code/ugly.py"
   ]
  },
  {
   "cell_type": "markdown",
   "metadata": {
    "slideshow": {
     "slide_type": "slide"
    }
   },
   "source": [
    "# Finding a Bug"
   ]
  },
  {
   "cell_type": "code",
   "execution_count": null,
   "metadata": {},
   "outputs": [],
   "source": [
    "# %load ../code/buggy.py\n",
    "def hypotenuse(leg1, leg2):\n",
    "    return (leg1 ** 2 + lge2 ** 2) ** 0.5\n"
   ]
  },
  {
   "cell_type": "code",
   "execution_count": 4,
   "metadata": {},
   "outputs": [
    {
     "name": "stdout",
     "output_type": "stream",
     "text": [
      "../code/buggy.py:2:25: F821 undefined name 'lge2'\r\n"
     ]
    }
   ],
   "source": [
    "!flake8 ../code/buggy.py"
   ]
  },
  {
   "cell_type": "markdown",
   "metadata": {
    "slideshow": {
     "slide_type": "slide"
    }
   },
   "source": [
    "# Overly Complex Code"
   ]
  },
  {
   "cell_type": "code",
   "execution_count": null,
   "metadata": {},
   "outputs": [],
   "source": [
    "# %load ../code/complicated.py\n",
    "def group_name(animal):\n",
    "    name = None\n",
    "    while name is None and not animal.endswith('s'):\n",
    "        if animal == 'ants':\n",
    "            return 'colony'\n",
    "        elif animal == 'bees':\n",
    "            return 'hive'\n",
    "        elif animal == 'cats':\n",
    "            return 'litter'\n",
    "        elif animal == 'dogs':\n",
    "            return 'pack'\n",
    "        animal += 's'\n",
    "    return name\n"
   ]
  },
  {
   "cell_type": "code",
   "execution_count": 8,
   "metadata": {},
   "outputs": [
    {
     "name": "stdout",
     "output_type": "stream",
     "text": [
      "../code/complicated.py:1:1: C901 'group_name' is too complex (6)\r\n"
     ]
    }
   ],
   "source": [
    "!flake8 --max-complexity=5 ../code/complicated.py"
   ]
  },
  {
   "cell_type": "markdown",
   "metadata": {
    "slideshow": {
     "slide_type": "notes"
    }
   },
   "source": [
    "From the original paper 10 is considered to be too complex and that's the default."
   ]
  },
  {
   "cell_type": "markdown",
   "metadata": {
    "slideshow": {
     "slide_type": "slide"
    }
   },
   "source": [
    "# Ignoring Errors"
   ]
  },
  {
   "cell_type": "code",
   "execution_count": null,
   "metadata": {},
   "outputs": [],
   "source": [
    "# %load ../code/ignore.py\n",
    "message = 'I know that this line is too long but I don\\'t want to break up this sentence because it would be awkward.'  # noqa\n"
   ]
  },
  {
   "cell_type": "code",
   "execution_count": 14,
   "metadata": {},
   "outputs": [],
   "source": [
    "!flake8 ../code/ignore.py"
   ]
  },
  {
   "cell_type": "markdown",
   "metadata": {
    "slideshow": {
     "slide_type": "slide"
    }
   },
   "source": [
    "# Some Available Plugins\n",
    "\n",
    "- `flake8-import-style`/`flake-isort`\n",
    "- `flake8-pytest`\n",
    "- `flake8-todo`\n",
    "- `flake8-commas`\n",
    "- `flake8-debugger`"
   ]
  },
  {
   "cell_type": "markdown",
   "metadata": {
    "slideshow": {
     "slide_type": "slide"
    }
   },
   "source": [
    "# `pdb` - Python Debugger\n",
    "\n",
    "`pdb` is included with Python to provide debugging capabilities. You can set a breakpoint and step through the code\n",
    "\n",
    "`ipdb` is a similarly improved interactive debugger which is included with `ipython`/`juptyer`."
   ]
  },
  {
   "cell_type": "markdown",
   "metadata": {
    "slideshow": {
     "slide_type": "slide"
    }
   },
   "source": [
    "# `pdb` Usage\n",
    "\n",
    "Breakpoints are set with `pdb` using `set_trace()`\n",
    "\n",
    "\n",
    "```python\n",
    "import pdb; pdb.set_trace()\n",
    "```\n",
    "\n",
    "When the program executes it will stop and allow you to interact with the currently running environment."
   ]
  },
  {
   "cell_type": "markdown",
   "metadata": {
    "slideshow": {
     "slide_type": "notes"
    }
   },
   "source": [
    "This doesn't have to be on a single line but you'll often find it that way so it can be easily removed later.\n",
    "\n",
    "You don't want to leave these in your code because it will stop your code from running."
   ]
  },
  {
   "cell_type": "markdown",
   "metadata": {
    "slideshow": {
     "slide_type": "slide"
    }
   },
   "source": [
    "# `pdb` Commands\n",
    "\n",
    "When at a breakpoint you can inspect the current namespace as well as step through the program execution using the following commands:\n",
    "\n",
    "- `s` - Execute the current line, stop at the first possible occasion.\n",
    "- `n` - Continue execution until the next line in the current function is reached or it returns.\n",
    "- `r` - Continue execution until the current function returns.\n",
    "- `l` - List source code for the current file.\n",
    "- `c` - Continue until the next breakpoint."
   ]
  },
  {
   "cell_type": "markdown",
   "metadata": {
    "slideshow": {
     "slide_type": "slide"
    }
   },
   "source": [
    "# `pdb` Demo\n",
    "\n",
    "We are going to do a little debugging on the Github API code from previous lectures and slowly step through the execution."
   ]
  },
  {
   "cell_type": "markdown",
   "metadata": {
    "slideshow": {
     "slide_type": "notes"
    }
   },
   "source": [
    "Set a break point inside the try block and step through. Examine the returned response and some of the inner workings of requests."
   ]
  },
  {
   "cell_type": "markdown",
   "metadata": {
    "slideshow": {
     "slide_type": "slide"
    }
   },
   "source": [
    "# `IPython`\n",
    "\n",
    "We touched on `IPython`/`jupyter` in previous lectures but I wanted to give more examples of things that `IPython` can do that the standard interpreter does not.\n",
    "\n",
    "- Tab completion\n",
    "- Input/output caching\n",
    "- Command history\n",
    "- Shell commands\n",
    "- 🦄 Magic 🦄"
   ]
  },
  {
   "cell_type": "markdown",
   "metadata": {
    "slideshow": {
     "slide_type": "slide"
    }
   },
   "source": [
    "# Tab Completion\n",
    "\n",
    "Within the `IPython` shell you can tab complete imports, local names, built-ins, well as object properties/methods.\n",
    "\n",
    "You suffix any object name with `?` to get more information about that object."
   ]
  },
  {
   "cell_type": "markdown",
   "metadata": {
    "slideshow": {
     "slide_type": "slide"
    }
   },
   "source": [
    "# Input/Output Caching\n",
    "\n",
    "The `In` and `Out` variables noted on the side can be used to examine previous input and output.\n",
    "\n",
    "`_`, `__`, and `___` reference the last three outputs."
   ]
  },
  {
   "cell_type": "markdown",
   "metadata": {
    "slideshow": {
     "slide_type": "slide"
    }
   },
   "source": [
    "# Command History\n",
    "\n",
    "The `IPython` shell keeps track of previous command history. You can see the input history through the `%history` command.\n",
    "\n",
    "You can return the previous command with `%rerun`.\n",
    "\n",
    "You can save a set of commands to a file via `%save`"
   ]
  },
  {
   "cell_type": "markdown",
   "metadata": {
    "slideshow": {
     "slide_type": "slide"
    }
   },
   "source": [
    "# Shell Commands\n",
    "\n",
    "Using the `!` prefix you can run shell commands inside of `IPython`. You can also capture the resulting output and store it in Python names."
   ]
  },
  {
   "cell_type": "code",
   "execution_count": 15,
   "metadata": {},
   "outputs": [
    {
     "data": {
      "text/plain": [
       "['example1.txt',\n",
       " 'example2.txt',\n",
       " 'example.log',\n",
       " 'example.txt',\n",
       " 'MA792-002-Python-1.ipynb',\n",
       " 'MA792-002-Python-2.ipynb',\n",
       " 'MA792-002-Python-3.ipynb',\n",
       " 'MA792-002-Python-4.ipynb',\n",
       " 'MA792-002-Python-5.ipynb',\n",
       " 'MA792-002-Python-6.ipynb',\n",
       " 'MA792-002-Python-7.ipynb',\n",
       " 'MA792-002-Python-8.ipynb',\n",
       " 'mandel.png']"
      ]
     },
     "execution_count": 15,
     "metadata": {},
     "output_type": "execute_result"
    }
   ],
   "source": [
    "result = !ls\n",
    "result"
   ]
  },
  {
   "cell_type": "markdown",
   "metadata": {
    "slideshow": {
     "slide_type": "slide"
    }
   },
   "source": [
    "# Magic Commands\n",
    "\n",
    "Commands which begin with `%` are called magic commands in `IPython`. There are many of them so here are my highlights:\n",
    "\n",
    "- `%timeit`\n",
    "- `%prun`\n",
    "- `%load`\n",
    "- `%debug`\n",
    "- `%reset`\n",
    "\n",
    "\n",
    "For all availalbe magic commands see: http://ipython.readthedocs.io/en/stable/interactive/magics.html"
   ]
  },
  {
   "cell_type": "markdown",
   "metadata": {
    "slideshow": {
     "slide_type": "slide"
    }
   },
   "source": [
    "# More Help  \n",
    "\n",
    "- Python Website: https://www.python.org/\n",
    "- Python Package Index: https://pypi.org/\n",
    "- Local Python Meetup/User Groups:\n",
    "  - TriPython - http://trizpug.org/ and https://www.meetup.com/tripython/\n",
    "  - PyLadies RDU - https://www.meetup.com/pyladies-rdu/"
   ]
  }
 ],
 "metadata": {
  "celltoolbar": "Slideshow",
  "kernelspec": {
   "display_name": "Python 3",
   "language": "python",
   "name": "python3"
  },
  "language_info": {
   "codemirror_mode": {
    "name": "ipython",
    "version": 3
   },
   "file_extension": ".py",
   "mimetype": "text/x-python",
   "name": "python",
   "nbconvert_exporter": "python",
   "pygments_lexer": "ipython3",
   "version": "3.6.4"
  }
 },
 "nbformat": 4,
 "nbformat_minor": 2
}
