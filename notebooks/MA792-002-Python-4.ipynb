{
 "cells": [
  {
   "cell_type": "markdown",
   "metadata": {
    "slideshow": {
     "slide_type": "slide"
    }
   },
   "source": [
    "# Exceptions and File Handling\n",
    "\n",
    "- Understanding Exceptions\n",
    "- Handling Exceptions\n",
    "- Defining Custom Exceptions\n",
    "- Reading/Writing Files\n",
    "- Navigating the File System"
   ]
  },
  {
   "cell_type": "markdown",
   "metadata": {
    "slideshow": {
     "slide_type": "slide"
    }
   },
   "source": [
    "# Understanding Exceptions\n",
    "\n",
    "Things do not always go as planned. If you don't want your program to just crash you'll need to be able to handle exceptions."
   ]
  },
  {
   "cell_type": "markdown",
   "metadata": {
    "slideshow": {
     "slide_type": "slide"
    }
   },
   "source": [
    "# Same Code but Different Style\n",
    "\n",
    "You have a couple options.\n",
    "\n",
    "In some cases you can do some preliminary checks to make sure that your code will successfully execute.\n",
    "\n",
    "Or you can dive in an catch errors as they happen."
   ]
  },
  {
   "cell_type": "markdown",
   "metadata": {
    "slideshow": {
     "slide_type": "slide"
    }
   },
   "source": [
    "# Look Before You Leap"
   ]
  },
  {
   "cell_type": "code",
   "execution_count": null,
   "metadata": {},
   "outputs": [],
   "source": [
    "c = 200\n",
    "if a != 0:\n",
    "    c = 200 / a"
   ]
  },
  {
   "cell_type": "markdown",
   "metadata": {
    "slideshow": {
     "slide_type": "slide"
    }
   },
   "source": [
    "# Easier to Ask Forgiveness than Permission"
   ]
  },
  {
   "cell_type": "code",
   "execution_count": null,
   "metadata": {},
   "outputs": [],
   "source": [
    "c = 200\n",
    "try:\n",
    "    c = 200 / a\n",
    "except ZeroDivisionError:\n",
    "    pass"
   ]
  },
  {
   "cell_type": "markdown",
   "metadata": {
    "slideshow": {
     "slide_type": "slide"
    }
   },
   "source": [
    "# Catching Exceptions\n",
    "\n",
    "The `try` keyword starts the block where exceptions are to be handled. The `except` keyword denotes which exception classes are handled.\n",
    "\n",
    "You can also define an `else` block which will only excute if no exceptions were raised. A `finally` block is also optional and will be excuted regardless of whether there were exceptions or not."
   ]
  },
  {
   "cell_type": "code",
   "execution_count": null,
   "metadata": {
    "slideshow": {
     "slide_type": "slide"
    }
   },
   "outputs": [],
   "source": [
    "try:\n",
    "    # Something dangerous\n",
    "except IndexError:\n",
    "    # Handle the error\n",
    "else:\n",
    "    # No problems so do something\n",
    "finally:\n",
    "    # Clean up either way"
   ]
  },
  {
   "cell_type": "markdown",
   "metadata": {
    "slideshow": {
     "slide_type": "slide"
    }
   },
   "source": [
    "# Catching Multiple Types of Exceptions\n",
    "\n",
    "You can handle multiple types of exceptions in one `except` block."
   ]
  },
  {
   "cell_type": "code",
   "execution_count": null,
   "metadata": {},
   "outputs": [],
   "source": [
    "try:\n",
    "    # Something dangerous\n",
    "except (TypeError, IndexError):\n",
    "    # Handle either type"
   ]
  },
  {
   "cell_type": "markdown",
   "metadata": {
    "slideshow": {
     "slide_type": "slide"
    }
   },
   "source": [
    "# Handling Different Exceptions Differently\n",
    "\n",
    "You can also define multiple `except` cases to handle different exception types in different ways."
   ]
  },
  {
   "cell_type": "code",
   "execution_count": null,
   "metadata": {},
   "outputs": [],
   "source": [
    "try:\n",
    "    # Something dangerous\n",
    "except TypeError:\n",
    "    # Handle type error\n",
    "except IndexError:\n",
    "    # Handle index error\n",
    "except:\n",
    "    # Handle all other types"
   ]
  },
  {
   "cell_type": "markdown",
   "metadata": {
    "slideshow": {
     "slide_type": "slide"
    }
   },
   "source": [
    "# Getting Exception Info"
   ]
  },
  {
   "cell_type": "code",
   "execution_count": 2,
   "metadata": {},
   "outputs": [
    {
     "name": "stdout",
     "output_type": "stream",
     "text": [
      "must be str, not int\n",
      "('must be str, not int',)\n"
     ]
    }
   ],
   "source": [
    "try:\n",
    "    # Something dangerous\n",
    "    'a' + 1\n",
    "except TypeError as e:\n",
    "    print(e)\n",
    "    print(e.args)\n",
    "    # Handle type error"
   ]
  },
  {
   "cell_type": "markdown",
   "metadata": {
    "slideshow": {
     "slide_type": "slide"
    }
   },
   "source": [
    "# Built-in Exceptions\n",
    "\n",
    "Some common exception classes:\n",
    "\n",
    "- `Exception` - Base exception class\n",
    "- `AttributeError` - Attempted to access an object attribute that doesn't exist\n",
    "- `IOError` - I/O related error (file not found, disk full, etc)\n",
    "- `ImportError` - Module import error\n",
    "- `IndexError` - Accessing index outside of list\n",
    "- `KeyError` - Accessing dictionary key that doesn't exist\n",
    "\n",
    "For a full list see http://docs.python.org/library/exceptions.html"
   ]
  },
  {
   "cell_type": "markdown",
   "metadata": {
    "slideshow": {
     "slide_type": "slide"
    }
   },
   "source": [
    "# Creating Exceptions\n",
    "\n",
    "Creating exceptions is as easy as creating a class."
   ]
  },
  {
   "cell_type": "code",
   "execution_count": null,
   "metadata": {},
   "outputs": [],
   "source": [
    "class EveryonePanicException(Exception):\n",
    "    pass"
   ]
  },
  {
   "cell_type": "markdown",
   "metadata": {
    "slideshow": {
     "slide_type": "slide"
    }
   },
   "source": [
    "# Creating Exceptions Expanded\n",
    "\n",
    "As with any class you can also pass additional information into your exceptions."
   ]
  },
  {
   "cell_type": "code",
   "execution_count": 5,
   "metadata": {},
   "outputs": [],
   "source": [
    "class EveryonePanicException(Exception):\n",
    "    \n",
    "    def __init__(self, reason):\n",
    "        self.reason = reason\n",
    "\n",
    "    def __str__(self):\n",
    "        return 'Everyone panic! %s' % self.reason"
   ]
  },
  {
   "cell_type": "markdown",
   "metadata": {
    "slideshow": {
     "slide_type": "slide"
    }
   },
   "source": [
    "# Raising Exceptions\n",
    "\n",
    "The `raise` keyword is used to raise the specified exception."
   ]
  },
  {
   "cell_type": "code",
   "execution_count": null,
   "metadata": {},
   "outputs": [],
   "source": [
    "raise EveryonePanicException(\"It's Godzilla!\")"
   ]
  },
  {
   "cell_type": "markdown",
   "metadata": {
    "slideshow": {
     "slide_type": "slide"
    }
   },
   "source": [
    "# Raising Exceptions Again\n",
    "\n",
    "If you've caught an exception that you don't intend to handle then you can re-raise the last exception with raise."
   ]
  },
  {
   "cell_type": "code",
   "execution_count": 7,
   "metadata": {},
   "outputs": [
    {
     "name": "stdout",
     "output_type": "stream",
     "text": [
      "There was an exception.\n"
     ]
    },
    {
     "ename": "EveryonePanicException",
     "evalue": "Everyone panic! It's Godzilla!",
     "output_type": "error",
     "traceback": [
      "\u001b[0;31m---------------------------------------------------------------------------\u001b[0m",
      "\u001b[0;31mEveryonePanicException\u001b[0m                    Traceback (most recent call last)",
      "\u001b[0;32m<ipython-input-7-ffaa09721542>\u001b[0m in \u001b[0;36m<module>\u001b[0;34m()\u001b[0m\n\u001b[1;32m      1\u001b[0m \u001b[0;34m\u001b[0m\u001b[0m\n\u001b[1;32m      2\u001b[0m \u001b[0;32mtry\u001b[0m\u001b[0;34m:\u001b[0m\u001b[0;34m\u001b[0m\u001b[0m\n\u001b[0;32m----> 3\u001b[0;31m     \u001b[0;32mraise\u001b[0m \u001b[0mEveryonePanicException\u001b[0m\u001b[0;34m(\u001b[0m\u001b[0;34m\"It's Godzilla!\"\u001b[0m\u001b[0;34m)\u001b[0m\u001b[0;34m\u001b[0m\u001b[0m\n\u001b[0m\u001b[1;32m      4\u001b[0m \u001b[0;32mexcept\u001b[0m \u001b[0mEveryonePanicException\u001b[0m\u001b[0;34m:\u001b[0m\u001b[0;34m\u001b[0m\u001b[0m\n\u001b[1;32m      5\u001b[0m     \u001b[0mprint\u001b[0m\u001b[0;34m(\u001b[0m\u001b[0;34m\"There was an exception.\"\u001b[0m\u001b[0;34m)\u001b[0m\u001b[0;34m\u001b[0m\u001b[0m\n",
      "\u001b[0;31mEveryonePanicException\u001b[0m: Everyone panic! It's Godzilla!"
     ]
    }
   ],
   "source": [
    "try:\n",
    "    raise EveryonePanicException(\"It's Godzilla!\")\n",
    "except EveryonePanicException:\n",
    "    print(\"There was an exception.\")\n",
    "    raise"
   ]
  },
  {
   "cell_type": "markdown",
   "metadata": {
    "slideshow": {
     "slide_type": "slide"
    }
   },
   "source": [
    "# Supporting Different Versions\n",
    "\n",
    "`lxml` is a high-performance XML parser which supports the same API as the XML parser in the standard library. You can fallback to the standard libary version if it isn't installed/available."
   ]
  },
  {
   "cell_type": "code",
   "execution_count": 9,
   "metadata": {},
   "outputs": [
    {
     "data": {
      "text/plain": [
       "'/usr/lib/python3.6/xml/etree/cElementTree.py'"
      ]
     },
     "execution_count": 9,
     "metadata": {},
     "output_type": "execute_result"
    }
   ],
   "source": [
    "try:\n",
    "  from lxml import etree\n",
    "except ImportError:\n",
    "  try:\n",
    "    import xml.etree.cElementTree as etree\n",
    "  except ImportError:\n",
    "    import xml.etree.ElementTree as etree\n",
    "    \n",
    "etree.__file__"
   ]
  },
  {
   "cell_type": "markdown",
   "metadata": {
    "slideshow": {
     "slide_type": "slide"
    }
   },
   "source": [
    "# Opening Files\n",
    "\n",
    "The built-in `open` function is used to open files. It takes the filename, mode (optional), and buffer size (optional). This is implemented as stdio `fopen()` in the underlying C. The mode defaults to 'r' (for reading)."
   ]
  },
  {
   "cell_type": "code",
   "execution_count": 11,
   "metadata": {},
   "outputs": [],
   "source": [
    "open_file = open('MA792-002-Python-4.ipynb')\n",
    "contents = open_file.readlines() # Reads entire file\n",
    "open_file.close()"
   ]
  },
  {
   "cell_type": "code",
   "execution_count": null,
   "metadata": {
    "slideshow": {
     "slide_type": "slide"
    }
   },
   "outputs": [],
   "source": [
    "# The File Object\n",
    "\n",
    "Let's take a look at what methods are on the `file` type."
   ]
  },
  {
   "cell_type": "code",
   "execution_count": 13,
   "metadata": {},
   "outputs": [
    {
     "ename": "NameError",
     "evalue": "name 'file' is not defined",
     "output_type": "error",
     "traceback": [
      "\u001b[0;31m---------------------------------------------------------------------------\u001b[0m",
      "\u001b[0;31mNameError\u001b[0m                                 Traceback (most recent call last)",
      "\u001b[0;32m<ipython-input-13-b073040aeb07>\u001b[0m in \u001b[0;36m<module>\u001b[0;34m()\u001b[0m\n\u001b[0;32m----> 1\u001b[0;31m \u001b[0mdir\u001b[0m\u001b[0;34m(\u001b[0m\u001b[0mfile\u001b[0m\u001b[0;34m)\u001b[0m\u001b[0;34m\u001b[0m\u001b[0m\n\u001b[0m",
      "\u001b[0;31mNameError\u001b[0m: name 'file' is not defined"
     ]
    }
   ],
   "source": [
    "dir(file)"
   ]
  },
  {
   "cell_type": "markdown",
   "metadata": {
    "slideshow": {
     "slide_type": "slide"
    }
   },
   "source": [
    "# Opening Files Safely\n",
    "\n",
    "You can avoid having to remember to close the file by opening the file using a `with` statement:"
   ]
  },
  {
   "cell_type": "code",
   "execution_count": null,
   "metadata": {},
   "outputs": [],
   "source": [
    "with open('example.txt') as f:\n",
    "    # do something with f\n",
    "    print f.readlines()"
   ]
  }
 ],
 "metadata": {
  "celltoolbar": "Slideshow",
  "kernelspec": {
   "display_name": "Python 3",
   "language": "python",
   "name": "python3"
  },
  "language_info": {
   "codemirror_mode": {
    "name": "ipython",
    "version": 3
   },
   "file_extension": ".py",
   "mimetype": "text/x-python",
   "name": "python",
   "nbconvert_exporter": "python",
   "pygments_lexer": "ipython3",
   "version": "3.6.4"
  }
 },
 "nbformat": 4,
 "nbformat_minor": 2
}
