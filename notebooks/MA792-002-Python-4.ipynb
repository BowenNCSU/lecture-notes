{
 "cells": [
  {
   "cell_type": "markdown",
   "metadata": {
    "slideshow": {
     "slide_type": "slide"
    }
   },
   "source": [
    "# Exceptions and File Handling\n",
    "\n",
    "- Understanding Exceptions\n",
    "- Handling Exceptions\n",
    "- Defining Custom Exceptions\n",
    "- Reading/Writing Files\n",
    "- Navigating the File System"
   ]
  },
  {
   "cell_type": "markdown",
   "metadata": {
    "slideshow": {
     "slide_type": "slide"
    }
   },
   "source": [
    "# Understanding Exceptions\n",
    "\n",
    "Things do not always go as planned. If you don't want your program to just crash you'll need to be able to handle exceptions."
   ]
  },
  {
   "cell_type": "markdown",
   "metadata": {
    "slideshow": {
     "slide_type": "slide"
    }
   },
   "source": [
    "# Same Code but Different Style\n",
    "\n",
    "You have a couple options.\n",
    "\n",
    "In some cases you can do some preliminary checks to make sure that your code will successfully execute.\n",
    "\n",
    "Or you can dive in an catch errors as they happen."
   ]
  },
  {
   "cell_type": "markdown",
   "metadata": {
    "slideshow": {
     "slide_type": "slide"
    }
   },
   "source": [
    "# Look Before You Leap"
   ]
  },
  {
   "cell_type": "code",
   "execution_count": 1,
   "metadata": {},
   "outputs": [],
   "source": [
    "a = 2\n",
    "c = 200\n",
    "if a != 0:\n",
    "    c = 200 / a"
   ]
  },
  {
   "cell_type": "markdown",
   "metadata": {
    "slideshow": {
     "slide_type": "slide"
    }
   },
   "source": [
    "# Easier to Ask Forgiveness than Permission"
   ]
  },
  {
   "cell_type": "code",
   "execution_count": 2,
   "metadata": {},
   "outputs": [],
   "source": [
    "a = 2\n",
    "c = 200\n",
    "try:\n",
    "    c = 200 / a\n",
    "except ZeroDivisionError:\n",
    "    pass"
   ]
  },
  {
   "cell_type": "markdown",
   "metadata": {
    "slideshow": {
     "slide_type": "slide"
    }
   },
   "source": [
    "# Catching Exceptions\n",
    "\n",
    "The `try` keyword starts the block where exceptions are to be handled. The `except` keyword denotes which exception classes are handled.\n",
    "\n",
    "You can also define an `else` block which will only excute if no exceptions were raised. A `finally` block is also optional and will be excuted regardless of whether there were exceptions or not."
   ]
  },
  {
   "cell_type": "code",
   "execution_count": 3,
   "metadata": {
    "slideshow": {
     "slide_type": "slide"
    }
   },
   "outputs": [],
   "source": [
    "try:\n",
    "    # Something dangerous\n",
    "    pass\n",
    "except IndexError:\n",
    "    # Handle the error\n",
    "    pass\n",
    "else:\n",
    "    # No problems so do something\n",
    "    pass\n",
    "finally:\n",
    "    # Clean up either way\n",
    "    pass"
   ]
  },
  {
   "cell_type": "markdown",
   "metadata": {
    "slideshow": {
     "slide_type": "slide"
    }
   },
   "source": [
    "# Catching Multiple Types of Exceptions\n",
    "\n",
    "You can handle multiple types of exceptions in one `except` block."
   ]
  },
  {
   "cell_type": "code",
   "execution_count": 4,
   "metadata": {},
   "outputs": [],
   "source": [
    "try:\n",
    "    # Something dangerous\n",
    "    pass\n",
    "except (TypeError, IndexError):\n",
    "    # Handle either type\n",
    "    pass"
   ]
  },
  {
   "cell_type": "markdown",
   "metadata": {
    "slideshow": {
     "slide_type": "slide"
    }
   },
   "source": [
    "# Handling Different Exceptions Differently\n",
    "\n",
    "You can also define multiple `except` cases to handle different exception types in different ways."
   ]
  },
  {
   "cell_type": "code",
   "execution_count": 5,
   "metadata": {},
   "outputs": [],
   "source": [
    "try:\n",
    "    # Something dangerous\n",
    "    pass\n",
    "except TypeError:\n",
    "    # Handle type error\n",
    "    pass\n",
    "except IndexError:\n",
    "    # Handle index error\n",
    "    pass\n",
    "except:\n",
    "    # Handle all other types\n",
    "    pass"
   ]
  },
  {
   "cell_type": "markdown",
   "metadata": {
    "slideshow": {
     "slide_type": "slide"
    }
   },
   "source": [
    "# Getting Exception Info"
   ]
  },
  {
   "cell_type": "code",
   "execution_count": 6,
   "metadata": {},
   "outputs": [
    {
     "name": "stdout",
     "output_type": "stream",
     "text": [
      "must be str, not int\n",
      "('must be str, not int',)\n"
     ]
    }
   ],
   "source": [
    "try:\n",
    "    # Something dangerous\n",
    "    'a' + 1\n",
    "except TypeError as e:\n",
    "    print(e)\n",
    "    print(e.args)\n",
    "    # Handle type error"
   ]
  },
  {
   "cell_type": "markdown",
   "metadata": {
    "slideshow": {
     "slide_type": "slide"
    }
   },
   "source": [
    "# Built-in Exceptions\n",
    "\n",
    "Some common exception classes:\n",
    "\n",
    "- `Exception` - Base exception class\n",
    "- `AttributeError` - Attempted to access an object attribute that doesn't exist\n",
    "- `IOError` - I/O related error (file not found, disk full, etc)\n",
    "- `ImportError` - Module import error\n",
    "- `IndexError` - Accessing index outside of list\n",
    "- `KeyError` - Accessing dictionary key that doesn't exist\n",
    "\n",
    "For a full list see http://docs.python.org/library/exceptions.html"
   ]
  },
  {
   "cell_type": "markdown",
   "metadata": {
    "slideshow": {
     "slide_type": "slide"
    }
   },
   "source": [
    "# Creating Exceptions\n",
    "\n",
    "Creating exceptions is as easy as creating a class."
   ]
  },
  {
   "cell_type": "code",
   "execution_count": 7,
   "metadata": {},
   "outputs": [],
   "source": [
    "class EveryonePanicException(Exception):\n",
    "    pass"
   ]
  },
  {
   "cell_type": "markdown",
   "metadata": {
    "slideshow": {
     "slide_type": "slide"
    }
   },
   "source": [
    "# Creating Exceptions Expanded\n",
    "\n",
    "As with any class you can also pass additional information into your exceptions."
   ]
  },
  {
   "cell_type": "code",
   "execution_count": 8,
   "metadata": {},
   "outputs": [],
   "source": [
    "class EveryonePanicException(Exception):\n",
    "    \n",
    "    def __init__(self, reason):\n",
    "        self.reason = reason\n",
    "\n",
    "    def __str__(self):\n",
    "        return 'Everyone panic! %s' % self.reason"
   ]
  },
  {
   "cell_type": "markdown",
   "metadata": {
    "slideshow": {
     "slide_type": "slide"
    }
   },
   "source": [
    "# Raising Exceptions\n",
    "\n",
    "The `raise` keyword is used to raise the specified exception."
   ]
  },
  {
   "cell_type": "code",
   "execution_count": 9,
   "metadata": {},
   "outputs": [
    {
     "ename": "EveryonePanicException",
     "evalue": "Everyone panic! It's Godzilla!",
     "output_type": "error",
     "traceback": [
      "\u001b[0;31m---------------------------------------------------------------------------\u001b[0m",
      "\u001b[0;31mEveryonePanicException\u001b[0m                    Traceback (most recent call last)",
      "\u001b[0;32m<ipython-input-9-8856e3f3e26e>\u001b[0m in \u001b[0;36m<module>\u001b[0;34m()\u001b[0m\n\u001b[0;32m----> 1\u001b[0;31m \u001b[0;32mraise\u001b[0m \u001b[0mEveryonePanicException\u001b[0m\u001b[0;34m(\u001b[0m\u001b[0;34m\"It's Godzilla!\"\u001b[0m\u001b[0;34m)\u001b[0m\u001b[0;34m\u001b[0m\u001b[0m\n\u001b[0m",
      "\u001b[0;31mEveryonePanicException\u001b[0m: Everyone panic! It's Godzilla!"
     ]
    }
   ],
   "source": [
    "raise EveryonePanicException(\"It's Godzilla!\")"
   ]
  },
  {
   "cell_type": "markdown",
   "metadata": {
    "slideshow": {
     "slide_type": "slide"
    }
   },
   "source": [
    "# Raising Exceptions Again\n",
    "\n",
    "If you've caught an exception that you don't intend to handle then you can re-raise the last exception with raise."
   ]
  },
  {
   "cell_type": "code",
   "execution_count": 10,
   "metadata": {},
   "outputs": [
    {
     "name": "stdout",
     "output_type": "stream",
     "text": [
      "There was an exception.\n"
     ]
    },
    {
     "ename": "EveryonePanicException",
     "evalue": "Everyone panic! It's Godzilla!",
     "output_type": "error",
     "traceback": [
      "\u001b[0;31m---------------------------------------------------------------------------\u001b[0m",
      "\u001b[0;31mEveryonePanicException\u001b[0m                    Traceback (most recent call last)",
      "\u001b[0;32m<ipython-input-10-4a848a688b40>\u001b[0m in \u001b[0;36m<module>\u001b[0;34m()\u001b[0m\n\u001b[1;32m      1\u001b[0m \u001b[0;32mtry\u001b[0m\u001b[0;34m:\u001b[0m\u001b[0;34m\u001b[0m\u001b[0m\n\u001b[0;32m----> 2\u001b[0;31m     \u001b[0;32mraise\u001b[0m \u001b[0mEveryonePanicException\u001b[0m\u001b[0;34m(\u001b[0m\u001b[0;34m\"It's Godzilla!\"\u001b[0m\u001b[0;34m)\u001b[0m\u001b[0;34m\u001b[0m\u001b[0m\n\u001b[0m\u001b[1;32m      3\u001b[0m \u001b[0;32mexcept\u001b[0m \u001b[0mEveryonePanicException\u001b[0m\u001b[0;34m:\u001b[0m\u001b[0;34m\u001b[0m\u001b[0m\n\u001b[1;32m      4\u001b[0m     \u001b[0mprint\u001b[0m\u001b[0;34m(\u001b[0m\u001b[0;34m\"There was an exception.\"\u001b[0m\u001b[0;34m)\u001b[0m\u001b[0;34m\u001b[0m\u001b[0m\n\u001b[1;32m      5\u001b[0m     \u001b[0;32mraise\u001b[0m\u001b[0;34m\u001b[0m\u001b[0m\n",
      "\u001b[0;31mEveryonePanicException\u001b[0m: Everyone panic! It's Godzilla!"
     ]
    }
   ],
   "source": [
    "try:\n",
    "    raise EveryonePanicException(\"It's Godzilla!\")\n",
    "except EveryonePanicException:\n",
    "    print(\"There was an exception.\")\n",
    "    raise"
   ]
  },
  {
   "cell_type": "markdown",
   "metadata": {
    "slideshow": {
     "slide_type": "slide"
    }
   },
   "source": [
    "# Supporting Different Versions\n",
    "\n",
    "`lxml` is a high-performance XML parser which supports the same API as the XML parser in the standard library. You can fallback to the standard libary version if it isn't installed/available."
   ]
  },
  {
   "cell_type": "code",
   "execution_count": 11,
   "metadata": {},
   "outputs": [
    {
     "data": {
      "text/plain": [
       "'/usr/lib/python3.6/xml/etree/cElementTree.py'"
      ]
     },
     "execution_count": 11,
     "metadata": {},
     "output_type": "execute_result"
    }
   ],
   "source": [
    "try:\n",
    "  from lxml import etree\n",
    "except ImportError:\n",
    "  try:\n",
    "    import xml.etree.cElementTree as etree\n",
    "  except ImportError:\n",
    "    import xml.etree.ElementTree as etree\n",
    "    \n",
    "etree.__file__"
   ]
  },
  {
   "cell_type": "markdown",
   "metadata": {
    "slideshow": {
     "slide_type": "slide"
    }
   },
   "source": [
    "# Opening Files\n",
    "\n",
    "The built-in `open` function is used to open files. It takes the filename, mode (optional), and buffer size (optional). This is implemented as stdio `fopen()` in the underlying C. The mode defaults to 'r' (for reading)."
   ]
  },
  {
   "cell_type": "code",
   "execution_count": 12,
   "metadata": {},
   "outputs": [],
   "source": [
    "open_file = open('MA792-002-Python-4.ipynb')\n",
    "contents = open_file.readlines() # Reads entire file\n",
    "open_file.close()"
   ]
  },
  {
   "cell_type": "markdown",
   "metadata": {
    "slideshow": {
     "slide_type": "slide"
    }
   },
   "source": [
    "# The File Object\n",
    "\n",
    "Let's take a look at what methods are on the `file` type."
   ]
  },
  {
   "cell_type": "code",
   "execution_count": 13,
   "metadata": {},
   "outputs": [
    {
     "data": {
      "text/plain": [
       "['_CHUNK_SIZE',\n",
       " '__class__',\n",
       " '__del__',\n",
       " '__delattr__',\n",
       " '__dict__',\n",
       " '__dir__',\n",
       " '__doc__',\n",
       " '__enter__',\n",
       " '__eq__',\n",
       " '__exit__',\n",
       " '__format__',\n",
       " '__ge__',\n",
       " '__getattribute__',\n",
       " '__getstate__',\n",
       " '__gt__',\n",
       " '__hash__',\n",
       " '__init__',\n",
       " '__init_subclass__',\n",
       " '__iter__',\n",
       " '__le__',\n",
       " '__lt__',\n",
       " '__ne__',\n",
       " '__new__',\n",
       " '__next__',\n",
       " '__reduce__',\n",
       " '__reduce_ex__',\n",
       " '__repr__',\n",
       " '__setattr__',\n",
       " '__sizeof__',\n",
       " '__str__',\n",
       " '__subclasshook__',\n",
       " '_checkClosed',\n",
       " '_checkReadable',\n",
       " '_checkSeekable',\n",
       " '_checkWritable',\n",
       " '_finalizing',\n",
       " 'buffer',\n",
       " 'close',\n",
       " 'closed',\n",
       " 'detach',\n",
       " 'encoding',\n",
       " 'errors',\n",
       " 'fileno',\n",
       " 'flush',\n",
       " 'isatty',\n",
       " 'line_buffering',\n",
       " 'mode',\n",
       " 'name',\n",
       " 'newlines',\n",
       " 'read',\n",
       " 'readable',\n",
       " 'readline',\n",
       " 'readlines',\n",
       " 'seek',\n",
       " 'seekable',\n",
       " 'tell',\n",
       " 'truncate',\n",
       " 'writable',\n",
       " 'write',\n",
       " 'writelines']"
      ]
     },
     "execution_count": 13,
     "metadata": {},
     "output_type": "execute_result"
    }
   ],
   "source": [
    "dir(open_file)"
   ]
  },
  {
   "cell_type": "markdown",
   "metadata": {
    "slideshow": {
     "slide_type": "slide"
    }
   },
   "source": [
    "# Opening Files Safely\n",
    "\n",
    "You can avoid having to remember to close the file by opening the file using a `with` statement:"
   ]
  },
  {
   "cell_type": "code",
   "execution_count": 14,
   "metadata": {},
   "outputs": [
    {
     "name": "stdout",
     "output_type": "stream",
     "text": [
      "[\"I'm in a file.\\n\"]\n"
     ]
    }
   ],
   "source": [
    "with open('../code/example.txt') as f:\n",
    "    # do something with f\n",
    "    print(f.readlines())"
   ]
  },
  {
   "cell_type": "markdown",
   "metadata": {
    "slideshow": {
     "slide_type": "slide"
    }
   },
   "source": [
    "# With Statement\n",
    "\n",
    "To take a small detour let's talk about the `with` statement.\n",
    "\n",
    "The `with` statement is used to wrap a code block called a context manager. The context manager defines an `__enter__` to setup the context and `__exit__` to clean up the code execution. The common use case is reusing try/except blocks for opening/closing resources."
   ]
  },
  {
   "cell_type": "code",
   "execution_count": 15,
   "metadata": {
    "slideshow": {
     "slide_type": "slide"
    }
   },
   "outputs": [],
   "source": [
    "# %load ../code/withexample.py\n",
    "class Example(object):\n",
    "\n",
    "    def __enter__(self):\n",
    "        print('Calling Enter')\n",
    "        return 73\n",
    "\n",
    "    def __exit__(self, exc_type, exc_value, traceback):\n",
    "        print('Calling Exit: %s, %s, %s' % (exc_type, exc_value, traceback))\n",
    "        # This will stop the exception\n",
    "        # from being propagated\n",
    "        return True\n"
   ]
  },
  {
   "cell_type": "code",
   "execution_count": 16,
   "metadata": {
    "slideshow": {
     "slide_type": "fragment"
    }
   },
   "outputs": [
    {
     "name": "stdout",
     "output_type": "stream",
     "text": [
      "Calling Enter\n",
      "73\n",
      "Calling Exit: None, None, None\n"
     ]
    }
   ],
   "source": [
    "with Example() as ex:\n",
    "    print(ex)"
   ]
  },
  {
   "cell_type": "code",
   "execution_count": 17,
   "metadata": {
    "slideshow": {
     "slide_type": "fragment"
    }
   },
   "outputs": [
    {
     "name": "stdout",
     "output_type": "stream",
     "text": [
      "Calling Enter\n",
      "Calling Exit: <class 'Exception'>, , <traceback object at 0x7f12ecd8f5c8>\n"
     ]
    }
   ],
   "source": [
    "with Example() as ex:\n",
    "    raise Exception"
   ]
  },
  {
   "cell_type": "markdown",
   "metadata": {
    "slideshow": {
     "slide_type": "slide"
    }
   },
   "source": [
    "# `contextlib`\n",
    "\n",
    "The `contextlib` module in the standard libary provides some utilities for working with and writing your own context managers to reduce some of the boilerplate.\n",
    "\n",
    "The `contextmanager` decorator can be used to create a simple context manager from a generator function."
   ]
  },
  {
   "cell_type": "code",
   "execution_count": 18,
   "metadata": {
    "slideshow": {
     "slide_type": "slide"
    }
   },
   "outputs": [],
   "source": [
    "import contextlib\n",
    "import time\n",
    "\n",
    "@contextlib.contextmanager\n",
    "def timer():\n",
    "    start = time.time()\n",
    "    yield\n",
    "    result = time.time() - start\n",
    "    print('It took {:.02f} seconds'.format(result))"
   ]
  },
  {
   "cell_type": "code",
   "execution_count": 19,
   "metadata": {
    "slideshow": {
     "slide_type": "fragment"
    }
   },
   "outputs": [
    {
     "name": "stdout",
     "output_type": "stream",
     "text": [
      "It took 0.25 seconds\n"
     ]
    }
   ],
   "source": [
    "with timer():\n",
    "    time.sleep(0.25)"
   ]
  },
  {
   "cell_type": "markdown",
   "metadata": {
    "slideshow": {
     "slide_type": "slide"
    }
   },
   "source": [
    "# Reading Files\n",
    "\n",
    "The file objects have a number of methods for reading content. readlines reads all of the file conents to the EOF character. `readline` reads a single line including the new line character. You can also read lines in a file using an interator syntax."
   ]
  },
  {
   "cell_type": "code",
   "execution_count": 20,
   "metadata": {},
   "outputs": [
    {
     "name": "stdout",
     "output_type": "stream",
     "text": [
      "I'm in a file.\n",
      "\n"
     ]
    }
   ],
   "source": [
    "with open('../code/example.txt') as f:\n",
    "    for line in f:\n",
    "        print(line)"
   ]
  },
  {
   "cell_type": "markdown",
   "metadata": {
    "slideshow": {
     "slide_type": "slide"
    }
   },
   "source": [
    "# A Program Which Outputs Itself\n",
    "\n",
    "See `code/output.py`"
   ]
  },
  {
   "cell_type": "markdown",
   "metadata": {
    "slideshow": {
     "slide_type": "slide"
    }
   },
   "source": [
    "# Writing Files\n",
    "\n",
    "You can write a single string with `write` or a list of strings with `writelines`. Keep in mind that neither method will automatically write new line characters for you.\n"
   ]
  },
  {
   "cell_type": "code",
   "execution_count": 21,
   "metadata": {},
   "outputs": [],
   "source": [
    "with open('example1.txt', 'w') as f:\n",
    "    f.write('Line 1\\n')\n",
    "    f.writelines(['Line 2\\n', 'Line 3\\n'])"
   ]
  },
  {
   "cell_type": "code",
   "execution_count": 22,
   "metadata": {
    "slideshow": {
     "slide_type": "slide"
    }
   },
   "outputs": [],
   "source": [
    "# Appending Files\n",
    "with open('example2.txt', 'w') as f:\n",
    "    f.write('First pass.\\n')\n",
    "\n",
    "with open('example2.txt', 'a') as f:\n",
    "    f.write('This is new.\\n')"
   ]
  },
  {
   "cell_type": "markdown",
   "metadata": {
    "slideshow": {
     "slide_type": "slide"
    }
   },
   "source": [
    "# File Paths\n",
    "\n",
    "The os module has helper functions for working with file paths. Some handy functions are\n",
    "\n",
    "* `os.getcwd`\n",
    "* `os.path.abspath`\n",
    "* `os.path.dirname`\n",
    "* `os.path.join`\n",
    "* `os.path.splitext`\n",
    "\n",
    "You can also get the relative file using the module's `__file__` attribute."
   ]
  },
  {
   "cell_type": "markdown",
   "metadata": {
    "slideshow": {
     "slide_type": "slide"
    }
   },
   "source": [
    "# Directories\n",
    "\n",
    "The os module also has helper functions for working with directories.\n",
    "\n",
    "* `os.listdir`\n",
    "* `os.path.walk`\n",
    "* `os.mkdir`\n",
    "* `os.makedirs`\n",
    "* `os.remove`\n",
    "* `os.rmdir`\n",
    "* `os.removedirs`"
   ]
  },
  {
   "cell_type": "markdown",
   "metadata": {
    "slideshow": {
     "slide_type": "slide"
    }
   },
   "source": [
    "# `pathlib`\n",
    "\n",
    "The `os.path` module has many function-based utilities for working with paths and file objects. If you prefer a more object-oriented approach then you can use `pathlib` instead."
   ]
  },
  {
   "cell_type": "code",
   "execution_count": 23,
   "metadata": {},
   "outputs": [
    {
     "data": {
      "text/plain": [
       "PosixPath('/var/log/syslog')"
      ]
     },
     "execution_count": 23,
     "metadata": {},
     "output_type": "execute_result"
    }
   ],
   "source": [
    "from pathlib import Path\n",
    "\n",
    "path = Path('/var')\n",
    "syslog = path / 'log' / 'syslog'\n",
    "syslog"
   ]
  },
  {
   "cell_type": "code",
   "execution_count": 24,
   "metadata": {
    "slideshow": {
     "slide_type": "fragment"
    }
   },
   "outputs": [
    {
     "data": {
      "text/plain": [
       "True"
      ]
     },
     "execution_count": 24,
     "metadata": {},
     "output_type": "execute_result"
    }
   ],
   "source": [
    "syslog.exists()"
   ]
  },
  {
   "cell_type": "code",
   "execution_count": 25,
   "metadata": {
    "slideshow": {
     "slide_type": "fragment"
    }
   },
   "outputs": [
    {
     "data": {
      "text/plain": [
       "False"
      ]
     },
     "execution_count": 25,
     "metadata": {},
     "output_type": "execute_result"
    }
   ],
   "source": [
    "syslog.is_dir()"
   ]
  },
  {
   "cell_type": "code",
   "execution_count": 26,
   "metadata": {
    "slideshow": {
     "slide_type": "fragment"
    }
   },
   "outputs": [
    {
     "data": {
      "text/plain": [
       "True"
      ]
     },
     "execution_count": 26,
     "metadata": {},
     "output_type": "execute_result"
    }
   ],
   "source": [
    "path.is_dir()"
   ]
  },
  {
   "cell_type": "markdown",
   "metadata": {
    "slideshow": {
     "slide_type": "slide"
    }
   },
   "source": [
    "# Modules Special File Types\n",
    "\n",
    "* XML\n",
    " * DOM (Document Object Model): xml.dom\n",
    " * SAX (Simple API for XML): xml.sax:\n",
    "* CSV\n",
    "* JSON"
   ]
  },
  {
   "cell_type": "markdown",
   "metadata": {
    "slideshow": {
     "slide_type": "slide"
    }
   },
   "source": [
    "# Up Next\n",
    "\n",
    "Functional programming in Python"
   ]
  },
  {
   "cell_type": "code",
   "execution_count": null,
   "metadata": {},
   "outputs": [],
   "source": []
  }
 ],
 "metadata": {
  "celltoolbar": "Slideshow",
  "kernelspec": {
   "display_name": "Python 3",
   "language": "python",
   "name": "python3"
  },
  "language_info": {
   "codemirror_mode": {
    "name": "ipython",
    "version": 3
   },
   "file_extension": ".py",
   "mimetype": "text/x-python",
   "name": "python",
   "nbconvert_exporter": "python",
   "pygments_lexer": "ipython3",
   "version": "3.6.4"
  }
 },
 "nbformat": 4,
 "nbformat_minor": 2
}
